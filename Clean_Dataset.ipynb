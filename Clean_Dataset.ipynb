{
 "cells": [
  {
   "cell_type": "markdown",
   "metadata": {},
   "source": [
    "# Car Price Prediction Machine Learning Project"
   ]
  },
  {
   "cell_type": "markdown",
   "metadata": {},
   "source": [
    "## Objective\n",
    "The objective of this project is to design a machine learning model that will predict the prices of cars. \n",
    "\n",
    "## Requirements\n",
    "* Data Collection\n",
    "    * the data for this project will be collected from websites that sell cars\n",
    "    * Selenium, chromedriver, and visual studio will be used to web scrap\n",
    "* Data Preparation\n",
    "    * The goal of this step is to prepare the data for analysis\n",
    "* Choose Model\n",
    "    * Choose an appropriate model to train the model as different models are tuned for accomplishing different tasks\n",
    "* Evaluate Model\n",
    "    * Use some metric or a combination of metrics to measure the objective performance of the model"
   ]
  },
  {
   "cell_type": "markdown",
   "metadata": {},
   "source": [
    "## Data Preparation"
   ]
  },
  {
   "cell_type": "code",
   "execution_count": 3,
   "metadata": {},
   "outputs": [
    {
     "ename": "NameError",
     "evalue": "name 'pd' is not defined",
     "output_type": "error",
     "traceback": [
      "\u001b[1;31m---------------------------------------------------------------------------\u001b[0m",
      "\u001b[1;31mNameError\u001b[0m                                 Traceback (most recent call last)",
      "\u001b[1;32m<ipython-input-3-ebee65b95cf0>\u001b[0m in \u001b[0;36m<module>\u001b[1;34m\u001b[0m\n\u001b[0;32m      8\u001b[0m \u001b[1;33m\u001b[0m\u001b[0m\n\u001b[0;32m      9\u001b[0m \u001b[1;31m# Importing Raw Data\u001b[0m\u001b[1;33m\u001b[0m\u001b[1;33m\u001b[0m\u001b[1;33m\u001b[0m\u001b[0m\n\u001b[1;32m---> 10\u001b[1;33m \u001b[0mRaw_Data\u001b[0m \u001b[1;33m=\u001b[0m \u001b[0mpd\u001b[0m\u001b[1;33m.\u001b[0m\u001b[0mread_csv\u001b[0m\u001b[1;33m(\u001b[0m\u001b[1;34m'C:\\\\Users\\\\abdul\\\\Documents\\\\Raw_Data.csv'\u001b[0m\u001b[1;33m)\u001b[0m\u001b[1;33m\u001b[0m\u001b[1;33m\u001b[0m\u001b[0m\n\u001b[0m\u001b[0;32m     11\u001b[0m \u001b[1;33m\u001b[0m\u001b[0m\n\u001b[0;32m     12\u001b[0m \u001b[1;31m# Column 1 Split\u001b[0m\u001b[1;33m\u001b[0m\u001b[1;33m\u001b[0m\u001b[1;33m\u001b[0m\u001b[0m\n",
      "\u001b[1;31mNameError\u001b[0m: name 'pd' is not defined"
     ]
    }
   ],
   "source": [
    "# import pandas as pd\n",
    "import numpy as np\n",
    "import os\n",
    "import xlsxwriter\n",
    "import math\n",
    "from re import sub\n",
    "from decimal import Decimal\n",
    "\n",
    "# Importing Raw Data\n",
    "Raw_Data = pd.read_csv('C:\\\\Users\\\\abdul\\\\Documents\\\\Raw_Data.csv')\n",
    "\n",
    "# Column 1 Split\n",
    "Year = Raw_Data['Car Brand'].iloc[0].split(\" \")[0]\n",
    "Make = Raw_Data['Car Brand'].iloc[0].split(\" \")[1]\n",
    "Model = Raw_Data['Car Brand'].iloc[0].split(\" \")[2:]\n",
    "Model = ' '.join(map(str,Model))\n",
    "# Trim1_delete = Raw_Data['Car Brand'].iloc[0].split(\" \")\n",
    "# if(len(Trim1_delete) >5):\n",
    "#     Trim1_delete = Trim1_delete[-3:]\n",
    "#     string = \"\".join(Trim1_delete)\n",
    "#     Trim1_delete = string\n",
    "# else:\n",
    "#     Trim1_delete = Trim1_delete[-1:]\n",
    "#     string = \"\".join(Trim1_delete)\n",
    "#     Trim1_delete = string\n",
    "\n",
    "# Column 2 Split\n",
    "Price = Raw_Data['Car Price'].iloc[0].split(\"\\nest\")[0]\n",
    "Price = int(sub(r'[^\\d.]', '',Price).strip())\n",
    "Price_monthly = Raw_Data['Car Price'].iloc[0].split(\"\\nest.\")[1]\n",
    "Price_monthly = sub(r'[^\\d.]', '',Price_monthly)\n",
    "\n",
    "# Column 3 Split\n",
    "Mileage = Raw_Data['Miles'].iloc[0].split(\"\\n\")[0]\n",
    "Mileage = sub(r'[^\\d.]', '',Mileage)\n",
    "Location = Raw_Data['Miles'].iloc[0].split(\"\\n\")[1]\n",
    "\n",
    "# Rest of the Columns\n",
    "Trim = Raw_Data['Trim'].iloc[0]\n",
    "Engine = Raw_Data['Engine'].iloc[0]\n",
    "Vin = Raw_Data['VIN'].iloc[0]\n",
    "Transmission = Raw_Data['Transmission'].iloc[0]\n",
    "Drivetrain = Raw_Data['Drivetrain'].iloc[0]\n",
    "Exterior_Color = Raw_Data['Exterior Color'].iloc[0]\n",
    "Interior_Color = Raw_Data['Interior Color'].iloc[0]\n",
    "Mileage_delete = Raw_Data['Mileage'].iloc[0]\n",
    "Stock_Number = Raw_Data['Stock #'].iloc[0]\n",
    "Condition = Raw_Data['Condition'].iloc[0]\n",
    "Body_Style = Raw_Data['Body Style'].iloc[0]\n",
    "Fuel_Type = Raw_Data['Fuel Type'].iloc[0]\n",
    "\n",
    "Gas_Mileage = Raw_Data['Gas Mileage'].iloc[0]\n",
    "Cabin = Raw_Data['Cabin'].iloc[0]                                              \n",
    "Bed =  Raw_Data['Bed'].iloc[0]\n",
    "Rear_Wheel = Raw_Data['Rear Wheel'].iloc[0]\n",
    "\n",
    "# Create and empty Excel Filef\n",
    "workbook =  xlsxwriter.Workbook('ProcessedData2.xlsx')\n",
    "worksheet = workbook.add_worksheet()\n",
    "\n",
    "# Create the Headers\n",
    "worksheet.write('A1','Year')\n",
    "worksheet.write('B1','Make')\n",
    "worksheet.write('C1','Model')\n",
    "worksheet.write('D1','Price USD')\n",
    "worksheet.write('E1','Price (Monthly)')\n",
    "worksheet.write('F1','Mileage')\n",
    "worksheet.write('G1','Location')\n",
    "worksheet.write('H1','Trim')\n",
    "worksheet.write('I1','Engine')\n",
    "worksheet.write('J1','Vin')\n",
    "worksheet.write('K1','Transmission')\n",
    "worksheet.write('L1','Drivetrain')\n",
    "worksheet.write('M1','Exterior Color')\n",
    "worksheet.write('N1','Interior Color')\n",
    "worksheet.write('O1','Mileage_delete')\n",
    "worksheet.write('P1','Stock Number')\n",
    "worksheet.write('Q1','Condition')\n",
    "worksheet.write('R1','Body Style')\n",
    "worksheet.write('S1','Fuel Type')\n",
    "worksheet.write('T1','Gas Mileage')\n",
    "worksheet.write('U1','Cabin')\n",
    "worksheet.write('V1','Bed')\n",
    "worksheet.write('W1','Rear Wheel')\n",
    "\n",
    "#populating first row\n",
    "\n",
    "worksheet.write('A2',Year)\n",
    "worksheet.write('B2',Make)\n",
    "worksheet.write('C2',Model)\n",
    "worksheet.write('D2',Price)\n",
    "worksheet.write('E2',Price_monthly)\n",
    "worksheet.write('F2',Mileage)\n",
    "worksheet.write('G2',Location)\n",
    "worksheet.write('H2',Trim)\n",
    "worksheet.write('I2',Engine)\n",
    "worksheet.write('J2',Vin)\n",
    "worksheet.write('K2',Transmission)\n",
    "worksheet.write('L2',Drivetrain)\n",
    "worksheet.write('M2',Exterior_Color)\n",
    "worksheet.write('N2',Interior_Color)\n",
    "worksheet.write('O2',Mileage_delete)\n",
    "worksheet.write('P2',Stock_Number)\n",
    "worksheet.write('Q2',Condition)\n",
    "worksheet.write('R2',Body_Style)\n",
    "if(math.isnan(Fuel_Type)):\n",
    "    Fuel_Type='NaN'\n",
    "worksheet.write('S2',Fuel_Type)\n",
    "if(math.isnan(Gas_Mileage)):\n",
    "    Gas_Mileage='NaN'\n",
    "worksheet.write('T2',Gas_Mileage)\n",
    "if(math.isnan(Cabin)):\n",
    "    Cabin='NaN'\n",
    "worksheet.write('U2',Cabin)\n",
    "if(math.isnan(Bed)):\n",
    "    Bed='NaN'\n",
    "worksheet.write('V2',Bed)\n",
    "if(math.isnan(Rear_Wheel)):\n",
    "    Rear_Wheel='NaN'\n",
    "worksheet.write('W2',Rear_Wheel)\n",
    "\n",
    "# #// Works up to here\n",
    "i = 2\n",
    "while(i<=375):\n",
    "    # Column 1 Split\n",
    "    Year = Raw_Data['Car Brand'].iloc[i-1].split(\" \")[0]\n",
    "    Make = Raw_Data['Car Brand'].iloc[i-1].split(\" \")[1]\n",
    "    Model = Raw_Data['Car Brand'].iloc[i-1].split(\" \")[2:]\n",
    "    Model = ' '.join(map(str,Model))\n",
    "\n",
    "    # Column 2 Split\n",
    "    Price = Raw_Data['Car Price'].iloc[i-1].split(\"\\nest\")[0]\n",
    "    Price = sub(r'[^\\d.]', '',Price).strip()\n",
    "    Price_monthly = Raw_Data['Car Price'].iloc[i-1].split(\"\\nest.\")[-1] \n",
    "    Price_monthly = sub(r'[^\\d.]', '',Price_monthly)\n",
    "\n",
    "    # Column 3 Split\n",
    "    Mileage = Raw_Data['Miles'].iloc[i-1].split(\"\\n\")[0]\n",
    "    Mileage = sub(r'[^\\d.]', '',Mileage)\n",
    "    Location = Raw_Data['Miles'].iloc[i-1].split(\"\\n\")[1]\n",
    "\n",
    "    # Rest of the Columns\n",
    "    Trim = Raw_Data['Trim'].iloc[i-1]\n",
    "    Engine = Raw_Data['Engine'].iloc[i-1]\n",
    "    Vin = Raw_Data['VIN'].iloc[i-1]\n",
    "    Transmission = Raw_Data['Transmission'].iloc[i-1]\n",
    "    Drivetrain = Raw_Data['Drivetrain'].iloc[i-1]\n",
    "    Exterior_Color = Raw_Data['Exterior Color'].iloc[i-1]\n",
    "    Interior_Color = Raw_Data['Interior Color'].iloc[i-1]\n",
    "    Mileage_delete = Raw_Data['Mileage'].iloc[i-1]\n",
    "    Stock_Number = Raw_Data['Stock #'].iloc[i-1]\n",
    "    Condition = Raw_Data['Condition'].iloc[i-1]\n",
    "    Body_Style = Raw_Data['Body Style'].iloc[i-1]\n",
    "    Fuel_Type = Raw_Data['Fuel Type'].iloc[i-1]\n",
    "    Gas_Mileage = Raw_Data['Gas Mileage'].iloc[i-1]\n",
    "    Cabin = Raw_Data['Cabin'].iloc[i-1]\n",
    "    Bed =  Raw_Data['Bed'].iloc[i-1]\n",
    "    Rear_Wheel = Raw_Data['Rear Wheel'].iloc[i-1]\n",
    "     # Writing to Excel\n",
    "    worksheet.write('A'+str(i+1),Year)\n",
    "    worksheet.write('B'+str(i+1),Make)\n",
    "    worksheet.write('C'+str(i+1),Model)\n",
    "    worksheet.write('D'+str(i+1),Price)\n",
    "    worksheet.write('E'+str(i+1),Price_monthly)\n",
    "    worksheet.write('F'+str(i+1),Mileage)\n",
    "    worksheet.write('G'+str(i+1),Location)\n",
    "    if(Trim != Trim):\n",
    "        Trim='NaN'\n",
    "    worksheet.write('H'+str(i+1),Trim)\n",
    "    if(Engine != Engine):\n",
    "        Engine='NaN'\n",
    "    worksheet.write('I'+str(i+1),Engine)\n",
    "    if(Vin != Vin):\n",
    "        Vin='NaN'\n",
    "    worksheet.write('J'+str(i+1),Vin)\n",
    "    if(Transmission != Transmission):\n",
    "        Transmission='NaN'\n",
    "    worksheet.write('K'+str(i+1),Transmission)\n",
    "    if(Drivetrain != Drivetrain):\n",
    "        Drivetrain='NaN'\n",
    "    worksheet.write('L'+str(i+1),Drivetrain)\n",
    "    if(Exterior_Color != Exterior_Color):\n",
    "        Exterior_Color='NaN'\n",
    "    worksheet.write('M'+str(i+1),Exterior_Color)\n",
    "    if(Interior_Color != Interior_Color):\n",
    "        Interior_Color='NaN'\n",
    "    worksheet.write('N'+str(i+1),Interior_Color)\n",
    "    \n",
    "    if(isinstance(Mileage_delete,str)):\n",
    "        Mileage_delete = Mileage_delete.replace(',','')\n",
    "        Mileage_delete = int(Mileage_delete)\n",
    "    \n",
    "    if(math.isnan(Mileage_delete)):\n",
    "        Mileage_delete='NaN'\n",
    "    else:\n",
    "        Mileage_delete = int(Mileage_delete)\n",
    "        \n",
    "        \n",
    "    worksheet.write('O'+str(i+1),Mileage_delete)\n",
    "    \n",
    "    if(Stock_Number != Stock_Number):\n",
    "        Stock_Number='NaN'\n",
    "\n",
    "#     if(isinstance(Stock_Number,str)):\n",
    "#         Stock_Number = Stock_Number.replace(',','')\n",
    "#         Stock_Number = int(Stock_Number)\n",
    "    \n",
    "#     if(math.isnan(Stock_Number)):\n",
    "#         Stock_Number=-1\n",
    "    \n",
    "    worksheet.write('P'+str(i+1),Stock_Number)\n",
    "    if(Condition != Condition):\n",
    "        Condition='NaN'\n",
    "    worksheet.write('Q'+str(i+1),Condition)\n",
    "  \n",
    "    if(Body_Style != Body_Style):\n",
    "        Body_Style='NaN'\n",
    "\n",
    "    worksheet.write('R'+str(i+1),Body_Style)\n",
    "    if(Fuel_Type != Fuel_Type):\n",
    "        Fuel_Type='NaN'\n",
    "    worksheet.write('S'+str(i+1),Fuel_Type)\n",
    "    \n",
    "    if(Gas_Mileage != Gas_Mileage):\n",
    "        Gas_Mileage='NaN'\n",
    "    \n",
    "    worksheet.write('T'+str(i+1),Gas_Mileage)\n",
    "    if(Cabin != Cabin):\n",
    "        Cabin='NaN'\n",
    "    worksheet.write('U'+str(i+1),Cabin)\n",
    "    if(Bed != Bed):\n",
    "        Bed='NaN'\n",
    "    worksheet.write('V'+str(i+1),Bed)\n",
    "    if(Rear_Wheel != Rear_Wheel):\n",
    "        Rear_Wheel='NaN'\n",
    "    worksheet.write('W'+str(i+1),Rear_Wheel)\n",
    "    i +=1\n",
    "\n",
    "workbook.close()"
   ]
  },
  {
   "cell_type": "code",
   "execution_count": 34,
   "metadata": {},
   "outputs": [
    {
     "data": {
      "text/plain": [
       "Year              0\n",
       "Make              0\n",
       "Model             0\n",
       "Price             0\n",
       "Mileage           0\n",
       "Trim              0\n",
       "Transmission      0\n",
       "Drivetrain        0\n",
       "Exterior Color    0\n",
       "Condition         0\n",
       "dtype: int64"
      ]
     },
     "execution_count": 34,
     "metadata": {},
     "output_type": "execute_result"
    }
   ],
   "source": [
    "import pandas as pd\n",
    "import numpy as np\n",
    "Processed_Data = pd.read_excel('C:\\\\Users\\\\abdul\\\\Cleaned_Data.xlsx')\n",
    "# Check for Null Values (We will have a quite large amounts of Missing Values)\n",
    "Processed_Data.isna().sum()"
   ]
  },
  {
   "cell_type": "code",
   "execution_count": 35,
   "metadata": {},
   "outputs": [
    {
     "data": {
      "text/html": [
       "<div>\n",
       "<style scoped>\n",
       "    .dataframe tbody tr th:only-of-type {\n",
       "        vertical-align: middle;\n",
       "    }\n",
       "\n",
       "    .dataframe tbody tr th {\n",
       "        vertical-align: top;\n",
       "    }\n",
       "\n",
       "    .dataframe thead th {\n",
       "        text-align: right;\n",
       "    }\n",
       "</style>\n",
       "<table border=\"1\" class=\"dataframe\">\n",
       "  <thead>\n",
       "    <tr style=\"text-align: right;\">\n",
       "      <th></th>\n",
       "      <th>Year</th>\n",
       "      <th>Make</th>\n",
       "      <th>Model</th>\n",
       "      <th>Price</th>\n",
       "      <th>Mileage</th>\n",
       "      <th>Trim</th>\n",
       "      <th>Transmission</th>\n",
       "      <th>Drivetrain</th>\n",
       "      <th>Exterior Color</th>\n",
       "      <th>Condition</th>\n",
       "    </tr>\n",
       "  </thead>\n",
       "  <tbody>\n",
       "    <tr>\n",
       "      <th>0</th>\n",
       "      <td>2020</td>\n",
       "      <td>Chevrolet</td>\n",
       "      <td>Silverado 1500 LT</td>\n",
       "      <td>45629</td>\n",
       "      <td>1</td>\n",
       "      <td>LT</td>\n",
       "      <td>Automatic</td>\n",
       "      <td>4WD</td>\n",
       "      <td>Black</td>\n",
       "      <td>New</td>\n",
       "    </tr>\n",
       "    <tr>\n",
       "      <th>1</th>\n",
       "      <td>2017</td>\n",
       "      <td>Hyundai</td>\n",
       "      <td>Sonata SE</td>\n",
       "      <td>13100</td>\n",
       "      <td>37431</td>\n",
       "      <td>SE</td>\n",
       "      <td>Automatic</td>\n",
       "      <td>FWD</td>\n",
       "      <td>Symphony Silver</td>\n",
       "      <td>Used</td>\n",
       "    </tr>\n",
       "    <tr>\n",
       "      <th>2</th>\n",
       "      <td>2017</td>\n",
       "      <td>Ford</td>\n",
       "      <td>Focus SE</td>\n",
       "      <td>13599</td>\n",
       "      <td>26205</td>\n",
       "      <td>SE</td>\n",
       "      <td>Automatic</td>\n",
       "      <td>FWD</td>\n",
       "      <td>Gray</td>\n",
       "      <td>Used</td>\n",
       "    </tr>\n",
       "    <tr>\n",
       "      <th>3</th>\n",
       "      <td>2019</td>\n",
       "      <td>Chevrolet</td>\n",
       "      <td>Suburban LT 1500</td>\n",
       "      <td>45300</td>\n",
       "      <td>19875</td>\n",
       "      <td>LT 1500</td>\n",
       "      <td>Automatic</td>\n",
       "      <td>4WD</td>\n",
       "      <td>Silver Ice Metallic</td>\n",
       "      <td>Used</td>\n",
       "    </tr>\n",
       "    <tr>\n",
       "      <th>4</th>\n",
       "      <td>2019</td>\n",
       "      <td>Volkswagen</td>\n",
       "      <td>Jetta 1.4T S ULEV</td>\n",
       "      <td>13397</td>\n",
       "      <td>40549</td>\n",
       "      <td>1.4T S ULEV</td>\n",
       "      <td>Automatic</td>\n",
       "      <td>FWD</td>\n",
       "      <td>\\tPlatinum Gray Metallic</td>\n",
       "      <td>Used</td>\n",
       "    </tr>\n",
       "  </tbody>\n",
       "</table>\n",
       "</div>"
      ],
      "text/plain": [
       "   Year        Make              Model  Price  Mileage         Trim  \\\n",
       "0  2020   Chevrolet  Silverado 1500 LT  45629        1           LT   \n",
       "1  2017     Hyundai          Sonata SE  13100    37431           SE   \n",
       "2  2017        Ford           Focus SE  13599    26205           SE   \n",
       "3  2019   Chevrolet   Suburban LT 1500  45300    19875      LT 1500   \n",
       "4  2019  Volkswagen  Jetta 1.4T S ULEV  13397    40549  1.4T S ULEV   \n",
       "\n",
       "  Transmission Drivetrain            Exterior Color Condition  \n",
       "0    Automatic        4WD                     Black       New  \n",
       "1    Automatic        FWD           Symphony Silver      Used  \n",
       "2    Automatic        FWD                      Gray      Used  \n",
       "3    Automatic        4WD       Silver Ice Metallic      Used  \n",
       "4    Automatic        FWD  \\tPlatinum Gray Metallic      Used  "
      ]
     },
     "execution_count": 35,
     "metadata": {},
     "output_type": "execute_result"
    }
   ],
   "source": [
    "Processed_Data.head()"
   ]
  },
  {
   "cell_type": "code",
   "execution_count": 36,
   "metadata": {},
   "outputs": [
    {
     "name": "stdout",
     "output_type": "stream",
     "text": [
      "<class 'pandas.core.frame.DataFrame'>\n",
      "RangeIndex: 372 entries, 0 to 371\n",
      "Data columns (total 10 columns):\n",
      " #   Column          Non-Null Count  Dtype \n",
      "---  ------          --------------  ----- \n",
      " 0   Year            372 non-null    int64 \n",
      " 1   Make            372 non-null    object\n",
      " 2   Model           372 non-null    object\n",
      " 3   Price           372 non-null    int64 \n",
      " 4   Mileage         372 non-null    int64 \n",
      " 5   Trim            372 non-null    object\n",
      " 6   Transmission    372 non-null    object\n",
      " 7   Drivetrain      372 non-null    object\n",
      " 8   Exterior Color  372 non-null    object\n",
      " 9   Condition       372 non-null    object\n",
      "dtypes: int64(3), object(7)\n",
      "memory usage: 29.2+ KB\n"
     ]
    }
   ],
   "source": [
    "Processed_Data.info()"
   ]
  },
  {
   "cell_type": "markdown",
   "metadata": {},
   "source": [
    "## Note\n",
    "The threshold for what variables to select as features will depend on whether the column/variable in question has less than 5% null values. if it has more than 5% of null values in the column, then that column will not be used in the training process. The Engine, Mileage_delete, Body Style, Fuel Type, Gas Mileage, Cabin, Bed and Rear Wheel columns will be dropped due to insufficient amount of data"
   ]
  },
  {
   "cell_type": "markdown",
   "metadata": {},
   "source": [
    "## Train Model\n",
    "The data has many non-numeric types of data. Apart from the year, price, and mileage columns, the rest of the feature columns are of object type. In order to use these data to model, label encoder will be used to transform these columns in order to use them to train the model. The data will be split into training and testing sets and the metric used for that is the standard 80/20 percent training and testing respectively. Sklearn's model selection feature will be used to achieve this condition. Sklearn's Random Forest Regressor will be used to train the model and this will split the data into trees and leafs. The number of trees was set 40 in order to achieve optimal results"
   ]
  },
  {
   "cell_type": "code",
   "execution_count": 37,
   "metadata": {},
   "outputs": [],
   "source": [
    "from sklearn import preprocessing \n",
    "import pandas as pd\n",
    "\n",
    "# Lable Encoder\n",
    "le = preprocessing.LabelEncoder()\n",
    "\n",
    "Processed_Data[['Make','Model','Trim','Transmission','Drivetrain','Exterior Color','Condition']] = Processed_Data[['Make','Model','Trim','Transmission','Drivetrain','Exterior Color','Condition']].apply(le.fit_transform)"
   ]
  },
  {
   "cell_type": "code",
   "execution_count": 61,
   "metadata": {},
   "outputs": [
    {
     "name": "stdout",
     "output_type": "stream",
     "text": [
      "(297, 9) (297,)\n",
      "(75, 9) (75,)\n"
     ]
    }
   ],
   "source": [
    "# Split Data\n",
    "from sklearn import datasets, linear_model\n",
    "from sklearn.model_selection import train_test_split\n",
    "from matplotlib import pyplot as plt\n",
    "y = Processed_Data.Price\n",
    "X = Processed_Data.drop('Price', axis=1)\n",
    "\n",
    "X_train, X_test, y_train, y_test = train_test_split(X,y,test_size=0.2, random_state=42)\n",
    "print(X_train.shape,y_train.shape)\n",
    "print(X_test.shape, y_test.shape)"
   ]
  },
  {
   "cell_type": "code",
   "execution_count": 76,
   "metadata": {},
   "outputs": [],
   "source": [
    "# Random Forest (40 trees)\n",
    "from sklearn.ensemble import RandomForestRegressor\n",
    "regressor = RandomForestRegressor(n_estimators=20, random_state=0)\n",
    "regressor.fit(X_train,y_train)\n",
    "y_prediction = regressor.predict(X_test)"
   ]
  },
  {
   "cell_type": "markdown",
   "metadata": {},
   "source": [
    "## Evaluate Model\n",
    "Sklearn's metric for evaluating the accuracy of a model will be used. These are the Mean Absolute Error, Mean Squared Error, and Root Mean Squared Error. Since the data is of diverse type (combinations of used and new cars as well as premium cars were used) and the price of used car vs. a new car is ways apart, this introduces too much variation into our data, hence we expect some errors, especially when the models indivual predictions are looked at and not the overall error. On top of this we have a relatively small amount of data that we're using to train the model (of course more car data can be inputed) and this will introduce another layer of biase into the data (bias might be a strong word, since this data is very random and was not selected based on any feature of the data)."
   ]
  },
  {
   "cell_type": "code",
   "execution_count": 77,
   "metadata": {},
   "outputs": [
    {
     "name": "stdout",
     "output_type": "stream",
     "text": [
      "Mean Absolute Error: 4278.57\n",
      "Mean Squared Error: 47538453.03\n",
      "Root Mean Squared Error: 6894.81\n"
     ]
    }
   ],
   "source": [
    "from sklearn import metrics\n",
    "from sklearn.metrics import mean_squared_error as MSE\n",
    "print('Mean Absolute Error:',round(metrics.mean_absolute_error(y_test,y_prediction),2))\n",
    "print('Mean Squared Error:',round(metrics.mean_squared_error(y_test,y_prediction),2))\n",
    "print('Root Mean Squared Error:',round(np.sqrt(metrics.mean_squared_error(y_test,y_prediction)),2))"
   ]
  },
  {
   "cell_type": "code",
   "execution_count": 78,
   "metadata": {},
   "outputs": [
    {
     "data": {
      "text/html": [
       "<div>\n",
       "<style scoped>\n",
       "    .dataframe tbody tr th:only-of-type {\n",
       "        vertical-align: middle;\n",
       "    }\n",
       "\n",
       "    .dataframe tbody tr th {\n",
       "        vertical-align: top;\n",
       "    }\n",
       "\n",
       "    .dataframe thead th {\n",
       "        text-align: right;\n",
       "    }\n",
       "</style>\n",
       "<table border=\"1\" class=\"dataframe\">\n",
       "  <thead>\n",
       "    <tr style=\"text-align: right;\">\n",
       "      <th></th>\n",
       "      <th>Actual</th>\n",
       "      <th>Predicted</th>\n",
       "    </tr>\n",
       "  </thead>\n",
       "  <tbody>\n",
       "    <tr>\n",
       "      <th>327</th>\n",
       "      <td>32999</td>\n",
       "      <td>36214.750000</td>\n",
       "    </tr>\n",
       "    <tr>\n",
       "      <th>33</th>\n",
       "      <td>16996</td>\n",
       "      <td>19341.450000</td>\n",
       "    </tr>\n",
       "    <tr>\n",
       "      <th>15</th>\n",
       "      <td>12700</td>\n",
       "      <td>12676.950000</td>\n",
       "    </tr>\n",
       "    <tr>\n",
       "      <th>314</th>\n",
       "      <td>40990</td>\n",
       "      <td>29014.250000</td>\n",
       "    </tr>\n",
       "    <tr>\n",
       "      <th>57</th>\n",
       "      <td>15998</td>\n",
       "      <td>19090.350000</td>\n",
       "    </tr>\n",
       "    <tr>\n",
       "      <th>239</th>\n",
       "      <td>16998</td>\n",
       "      <td>19517.500000</td>\n",
       "    </tr>\n",
       "    <tr>\n",
       "      <th>76</th>\n",
       "      <td>20999</td>\n",
       "      <td>22097.779167</td>\n",
       "    </tr>\n",
       "    <tr>\n",
       "      <th>119</th>\n",
       "      <td>41590</td>\n",
       "      <td>43541.250000</td>\n",
       "    </tr>\n",
       "    <tr>\n",
       "      <th>305</th>\n",
       "      <td>7499</td>\n",
       "      <td>12526.900000</td>\n",
       "    </tr>\n",
       "    <tr>\n",
       "      <th>126</th>\n",
       "      <td>28607</td>\n",
       "      <td>30523.550000</td>\n",
       "    </tr>\n",
       "    <tr>\n",
       "      <th>233</th>\n",
       "      <td>30180</td>\n",
       "      <td>28347.400000</td>\n",
       "    </tr>\n",
       "    <tr>\n",
       "      <th>39</th>\n",
       "      <td>21999</td>\n",
       "      <td>22440.300000</td>\n",
       "    </tr>\n",
       "    <tr>\n",
       "      <th>153</th>\n",
       "      <td>8995</td>\n",
       "      <td>11664.500000</td>\n",
       "    </tr>\n",
       "    <tr>\n",
       "      <th>55</th>\n",
       "      <td>15998</td>\n",
       "      <td>17768.250000</td>\n",
       "    </tr>\n",
       "    <tr>\n",
       "      <th>155</th>\n",
       "      <td>30895</td>\n",
       "      <td>29037.150000</td>\n",
       "    </tr>\n",
       "    <tr>\n",
       "      <th>278</th>\n",
       "      <td>18998</td>\n",
       "      <td>14380.750000</td>\n",
       "    </tr>\n",
       "    <tr>\n",
       "      <th>0</th>\n",
       "      <td>45629</td>\n",
       "      <td>38720.000000</td>\n",
       "    </tr>\n",
       "    <tr>\n",
       "      <th>231</th>\n",
       "      <td>36990</td>\n",
       "      <td>28160.300000</td>\n",
       "    </tr>\n",
       "    <tr>\n",
       "      <th>335</th>\n",
       "      <td>18700</td>\n",
       "      <td>25800.700000</td>\n",
       "    </tr>\n",
       "    <tr>\n",
       "      <th>101</th>\n",
       "      <td>19382</td>\n",
       "      <td>21146.500000</td>\n",
       "    </tr>\n",
       "    <tr>\n",
       "      <th>9</th>\n",
       "      <td>18999</td>\n",
       "      <td>16610.800000</td>\n",
       "    </tr>\n",
       "    <tr>\n",
       "      <th>180</th>\n",
       "      <td>23990</td>\n",
       "      <td>33249.500000</td>\n",
       "    </tr>\n",
       "    <tr>\n",
       "      <th>72</th>\n",
       "      <td>29378</td>\n",
       "      <td>40834.900000</td>\n",
       "    </tr>\n",
       "    <tr>\n",
       "      <th>237</th>\n",
       "      <td>31998</td>\n",
       "      <td>37031.700000</td>\n",
       "    </tr>\n",
       "    <tr>\n",
       "      <th>255</th>\n",
       "      <td>31910</td>\n",
       "      <td>16575.800000</td>\n",
       "    </tr>\n",
       "    <tr>\n",
       "      <th>137</th>\n",
       "      <td>25999</td>\n",
       "      <td>25171.316667</td>\n",
       "    </tr>\n",
       "    <tr>\n",
       "      <th>225</th>\n",
       "      <td>25775</td>\n",
       "      <td>26736.900000</td>\n",
       "    </tr>\n",
       "    <tr>\n",
       "      <th>194</th>\n",
       "      <td>45804</td>\n",
       "      <td>45486.500000</td>\n",
       "    </tr>\n",
       "    <tr>\n",
       "      <th>193</th>\n",
       "      <td>17450</td>\n",
       "      <td>15110.200000</td>\n",
       "    </tr>\n",
       "    <tr>\n",
       "      <th>368</th>\n",
       "      <td>14437</td>\n",
       "      <td>20352.500000</td>\n",
       "    </tr>\n",
       "  </tbody>\n",
       "</table>\n",
       "</div>"
      ],
      "text/plain": [
       "     Actual     Predicted\n",
       "327   32999  36214.750000\n",
       "33    16996  19341.450000\n",
       "15    12700  12676.950000\n",
       "314   40990  29014.250000\n",
       "57    15998  19090.350000\n",
       "239   16998  19517.500000\n",
       "76    20999  22097.779167\n",
       "119   41590  43541.250000\n",
       "305    7499  12526.900000\n",
       "126   28607  30523.550000\n",
       "233   30180  28347.400000\n",
       "39    21999  22440.300000\n",
       "153    8995  11664.500000\n",
       "55    15998  17768.250000\n",
       "155   30895  29037.150000\n",
       "278   18998  14380.750000\n",
       "0     45629  38720.000000\n",
       "231   36990  28160.300000\n",
       "335   18700  25800.700000\n",
       "101   19382  21146.500000\n",
       "9     18999  16610.800000\n",
       "180   23990  33249.500000\n",
       "72    29378  40834.900000\n",
       "237   31998  37031.700000\n",
       "255   31910  16575.800000\n",
       "137   25999  25171.316667\n",
       "225   25775  26736.900000\n",
       "194   45804  45486.500000\n",
       "193   17450  15110.200000\n",
       "368   14437  20352.500000"
      ]
     },
     "execution_count": 78,
     "metadata": {},
     "output_type": "execute_result"
    }
   ],
   "source": [
    "df = pd.DataFrame({'Actual':y_test, 'Predicted':y_prediction})\n",
    "df.head(30)"
   ]
  },
  {
   "cell_type": "markdown",
   "metadata": {},
   "source": [
    "## Variable Importances and Visualization"
   ]
  },
  {
   "cell_type": "code",
   "execution_count": 79,
   "metadata": {},
   "outputs": [
    {
     "name": "stdout",
     "output_type": "stream",
     "text": [
      "Variable: Drivetrain           importance: 0.28\n",
      "Variable: Model                importance: 0.23\n",
      "Variable: Trim                 importance: 0.15\n",
      "Variable: Mileage              importance: 0.13\n",
      "Variable: Year                 importance: 0.08\n",
      "Variable: Make                 importance: 0.07\n",
      "Variable: Exterior Color       importance: 0.05\n",
      "Variable: Transmission         importance: 0.0\n",
      "Variable: Condition            importance: 0.0\n"
     ]
    }
   ],
   "source": [
    "# Visualization\n",
    "rf = regressor\n",
    "features = Processed_Data.drop('Price',axis=1)\n",
    "feature_list = list(features.columns)\n",
    "features = np.array(features)\n",
    "\n",
    "importances = list(rf.feature_importances_)\n",
    "feature_importances = [(feature,round(importance,2)) for feature, importance in zip(feature_list,importances)]\n",
    "feature_importances = sorted(feature_importances,key=lambda x: x[1],reverse=True)\n",
    "[print('Variable: {:20} importance: {}'.format(*pair)) for pair in feature_importances];"
   ]
  },
  {
   "cell_type": "code",
   "execution_count": 13,
   "metadata": {},
   "outputs": [
    {
     "data": {
      "text/plain": [
       "Text(0.5, 1.0, 'Variable Importances')"
      ]
     },
     "execution_count": 13,
     "metadata": {},
     "output_type": "execute_result"
    },
    {
     "data": {
      "image/png": "[encoded data removed]",
      "text/plain": [
       "<Figure size 432x288 with 1 Axes>"
      ]
     },
     "metadata": {},
     "output_type": "display_data"
    }
   ],
   "source": [
    "import matplotlib.pyplot as plt\n",
    "%matplotlib inline\n",
    "plt.style.use('fivethirtyeight')\n",
    "x_values = list(range(len(importances)))\n",
    "\n",
    "plt.bar(x_values,importances,orientation = 'vertical')\n",
    "plt.xticks(x_values,feature_list, rotation = 'vertical')\n",
    "plt.ylabel('importance'); plt.xlabel('Variable');plt.title('Variable Importances')"
   ]
  },
  {
   "cell_type": "code",
   "execution_count": 73,
   "metadata": {},
   "outputs": [
    {
     "data": {
      "text/plain": [
       "<matplotlib.axes._subplots.AxesSubplot at 0x200c2143c08>"
      ]
     },
     "execution_count": 73,
     "metadata": {},
     "output_type": "execute_result"
    },
    {
     "data": {
      "image/png": "[encoded data removed]",
      "text/plain": [
       "<Figure size 432x288 with 1 Axes>"
      ]
     },
     "metadata": {
      "needs_background": "light"
     },
     "output_type": "display_data"
    },
    {
     "data": {
      "image/png": "[encoded data removed]",
      "text/plain": [
       "<Figure size 432x288 with 1 Axes>"
      ]
     },
     "metadata": {
      "needs_background": "light"
     },
     "output_type": "display_data"
    },
    {
     "data": {
      "image/png": "[encoded data removed]",
      "text/plain": [
       "<Figure size 432x288 with 1 Axes>"
      ]
     },
     "metadata": {
      "needs_background": "light"
     },
     "output_type": "display_data"
    },
    {
     "data": {
      "image/png": "[encoded data removed]",
      "text/plain": [
       "<Figure size 432x288 with 1 Axes>"
      ]
     },
     "metadata": {
      "needs_background": "light"
     },
     "output_type": "display_data"
    },
    {
     "data": {
      "image/png": "[encoded data removed]",
      "text/plain": [
       "<Figure size 432x288 with 1 Axes>"
      ]
     },
     "metadata": {
      "needs_background": "light"
     },
     "output_type": "display_data"
    },
    {
     "data": {
      "image/png": "[encoded data removed]",
      "text/plain": [
       "<Figure size 432x288 with 1 Axes>"
      ]
     },
     "metadata": {
      "needs_background": "light"
     },
     "output_type": "display_data"
    },
    {
     "data": {
      "image/png": "[encoded data removed]",
      "text/plain": [
       "<Figure size 432x288 with 1 Axes>"
      ]
     },
     "metadata": {
      "needs_background": "light"
     },
     "output_type": "display_data"
    },
    {
     "data": {
      "image/png": "[encoded data removed]",
      "text/plain": [
       "<Figure size 432x288 with 1 Axes>"
      ]
     },
     "metadata": {
      "needs_background": "light"
     },
     "output_type": "display_data"
    },
    {
     "data": {
      "image/png": "[encoded data removed]",
      "text/plain": [
       "<Figure size 432x288 with 1 Axes>"
      ]
     },
     "metadata": {
      "needs_background": "light"
     },
     "output_type": "display_data"
    }
   ],
   "source": [
    "import matplotlib.pyplot as plt\n",
    "Processed_Data.plot('Year','Price',kind='scatter')\n",
    "Processed_Data.plot(x='Make',y='Price',kind='scatter')\n",
    "Processed_Data.plot(x='Model',y='Price',kind='scatter')\n",
    "Processed_Data.plot(x='Mileage',y='Price',kind='scatter')\n",
    "Processed_Data.plot(x='Trim',y='Price',kind='scatter')\n",
    "Processed_Data.plot(x='Transmission',y='Price',kind='scatter')\n",
    "Processed_Data.plot(x='Drivetrain',y='Price',kind='scatter')\n",
    "Processed_Data.plot(x='Exterior Color',y='Price',kind='scatter')\n",
    "Processed_Data.plot(x='Condition',y='Price',kind='scatter')"
   ]
  }
 ],
 "metadata": {
  "kernelspec": {
   "display_name": "Python 3",
   "language": "python",
   "name": "python3"
  },
  "language_info": {
   "codemirror_mode": {
    "name": "ipython",
    "version": 3
   },
   "file_extension": ".py",
   "mimetype": "text/x-python",
   "name": "python",
   "nbconvert_exporter": "python",
   "pygments_lexer": "ipython3",
   "version": "3.7.6"
  }
 },
 "nbformat": 4,
 "nbformat_minor": 4
}
